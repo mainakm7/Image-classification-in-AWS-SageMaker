{
 "cells": [
  {
   "cell_type": "markdown",
   "metadata": {},
   "source": [
    "### The CIFAR-100 dataset : https://www.cs.toronto.edu/~kriz/cifar-100-python.tar.gz "
   ]
  },
  {
   "cell_type": "code",
   "execution_count": 3,
   "metadata": {},
   "outputs": [],
   "source": [
    "import requests\n",
    "\n",
    "def extract_cifar_data(url, filename=\"cifar.tar.gz\"):\n",
    "    \n",
    "    r = requests.get(url)\n",
    "    with open(filename, \"wb\") as file_context:\n",
    "        file_context.write(r.content)\n",
    "    return"
   ]
  },
  {
   "cell_type": "code",
   "execution_count": 4,
   "metadata": {},
   "outputs": [],
   "source": [
    "extract_cifar_data(\"https://www.cs.toronto.edu/~kriz/cifar-100-python.tar.gz\")     "
   ]
  },
  {
   "cell_type": "code",
   "execution_count": 5,
   "metadata": {},
   "outputs": [],
   "source": [
    "import tarfile\n",
    "\n",
    "with tarfile.open(\"cifar.tar.gz\", \"r:gz\") as tar:\n",
    "    tar.extractall()"
   ]
  },
  {
   "cell_type": "code",
   "execution_count": 6,
   "metadata": {},
   "outputs": [],
   "source": [
    "import pickle\n",
    "\n",
    "with open(\"./cifar-100-python/meta\", \"rb\") as f:\n",
    "    dataset_meta = pickle.load(f, encoding='bytes')\n",
    "\n",
    "with open(\"./cifar-100-python/test\", \"rb\") as f:\n",
    "    dataset_test = pickle.load(f, encoding='bytes')\n",
    "\n",
    "with open(\"./cifar-100-python/train\", \"rb\") as f:\n",
    "    dataset_train = pickle.load(f, encoding='bytes')"
   ]
  },
  {
   "cell_type": "code",
   "execution_count": 7,
   "metadata": {},
   "outputs": [
    {
     "name": "stdout",
     "output_type": "stream",
     "text": [
      "train keys: dict_keys([b'filenames', b'batch_label', b'fine_labels', b'coarse_labels', b'data'])\n",
      "test keys: dict_keys([b'filenames', b'batch_label', b'fine_labels', b'coarse_labels', b'data'])\n",
      "Meta keys: dict_keys([b'fine_label_names', b'coarse_label_names'])\n"
     ]
    }
   ],
   "source": [
    "\n",
    "\n",
    "print(f\"train keys: {dataset_train.keys()}\")\n",
    "print(f\"test keys: {dataset_test.keys()}\")\n",
    "print(f\"Meta keys: {dataset_meta.keys()}\")"
   ]
  },
  {
   "cell_type": "code",
   "execution_count": 9,
   "metadata": {},
   "outputs": [],
   "source": [
    "import numpy as np\n",
    "\n",
    "\n",
    "row = dataset_train[b'data'][0]\n",
    "red, green, blue = row[0:1024], row[1024:2048], row[2048:]\n",
    "\n",
    "\n",
    "red = red.reshape(32,32)\n",
    "green = green.reshape(32,32)\n",
    "blue = blue.reshape(32,32)\n",
    "\n",
    "\n",
    "combined = np.dstack((red,green,blue))"
   ]
  },
  {
   "cell_type": "code",
   "execution_count": 10,
   "metadata": {},
   "outputs": [
    {
     "data": {
      "text/plain": [
       "(32, 32, 3)"
      ]
     },
     "execution_count": 10,
     "metadata": {},
     "output_type": "execute_result"
    }
   ],
   "source": [
    "\n",
    "row = dataset_train[b'data'][0]\n",
    "test_image = np.dstack((\n",
    "    row[0:1024].reshape(32,32),\n",
    "    row[1024:2048].reshape(32,32),\n",
    "    row[2048:].reshape(32,32)\n",
    "))\n",
    "test_image.shape"
   ]
  },
  {
   "cell_type": "code",
   "execution_count": 11,
   "metadata": {},
   "outputs": [
    {
     "data": {
      "image/png": "[encoded data removed]",
      "text/plain": [
       "<Figure size 640x480 with 1 Axes>"
      ]
     },
     "metadata": {},
     "output_type": "display_data"
    }
   ],
   "source": [
    "import matplotlib.pyplot as plt\n",
    "plt.imshow(test_image);"
   ]
  },
  {
   "cell_type": "code",
   "execution_count": 12,
   "metadata": {},
   "outputs": [
    {
     "data": {
      "image/png": "[encoded data removed]",
      "text/plain": [
       "<Figure size 640x480 with 1 Axes>"
      ]
     },
     "metadata": {},
     "output_type": "display_data"
    }
   ],
   "source": [
    "plt.imshow(combined);"
   ]
  },
  {
   "cell_type": "code",
   "execution_count": 13,
   "metadata": {},
   "outputs": [
    {
     "data": {
      "text/plain": [
       "19"
      ]
     },
     "execution_count": 13,
     "metadata": {},
     "output_type": "execute_result"
    }
   ],
   "source": [
    "dataset_train[b'fine_labels'][0]"
   ]
  },
  {
   "cell_type": "code",
   "execution_count": 14,
   "metadata": {},
   "outputs": [
    {
     "data": {
      "text/plain": [
       "int"
      ]
     },
     "execution_count": 14,
     "metadata": {},
     "output_type": "execute_result"
    }
   ],
   "source": [
    "type(dataset_train[b'fine_labels'][0])"
   ]
  },
  {
   "cell_type": "markdown",
   "metadata": {},
   "source": [
    "Our image has a label of `19`, so let's see what the 19th item is in the list of label names."
   ]
  },
  {
   "cell_type": "code",
   "execution_count": 15,
   "metadata": {},
   "outputs": [
    {
     "name": "stdout",
     "output_type": "stream",
     "text": [
      "b'cattle'\n"
     ]
    }
   ],
   "source": [
    "print(dataset_meta[b'fine_label_names'][19])"
   ]
  },
  {
   "cell_type": "code",
   "execution_count": 16,
   "metadata": {},
   "outputs": [
    {
     "name": "stdout",
     "output_type": "stream",
     "text": [
      "b'cattle'\n"
     ]
    }
   ],
   "source": [
    "n = 0\n",
    "print(dataset_meta[b'fine_label_names'][dataset_train[b'fine_labels'][n]])"
   ]
  },
  {
   "cell_type": "code",
   "execution_count": 17,
   "metadata": {},
   "outputs": [
    {
     "name": "stdout",
     "output_type": "stream",
     "text": [
      "b'bos_taurus_s_000507.png'\n"
     ]
    }
   ],
   "source": [
    "print(dataset_train[b'filenames'][0])"
   ]
  },
  {
   "cell_type": "code",
   "execution_count": 18,
   "metadata": {},
   "outputs": [],
   "source": [
    "plt.imsave(\"file.png\", test_image)"
   ]
  },
  {
   "cell_type": "markdown",
   "metadata": {},
   "source": [
    "In the following cell, identify the label numbers for Bicycles and Motorcycles:"
   ]
  },
  {
   "cell_type": "code",
   "execution_count": 20,
   "metadata": {},
   "outputs": [],
   "source": [
    "import pandas as pd\n",
    "\n",
    "label = set()\n",
    "for n in range(len(dataset_train[b'data'])):\n",
    "    if dataset_meta[b'fine_label_names'][dataset_train[b'fine_labels'][n]] == b'bicycle' or dataset_meta[b'fine_label_names'][dataset_train[b'fine_labels'][n]] == b'motorcycle':\n",
    "        label.add(dataset_train[b'fine_labels'][n])\n",
    "        \n"
   ]
  },
  {
   "cell_type": "code",
   "execution_count": 21,
   "metadata": {},
   "outputs": [
    {
     "data": {
      "text/plain": [
       "{8, 48}"
      ]
     },
     "execution_count": 21,
     "metadata": {},
     "output_type": "execute_result"
    }
   ],
   "source": [
    "label"
   ]
  },
  {
   "cell_type": "markdown",
   "metadata": {},
   "source": [
    "We only need objects with label 8 and 48"
   ]
  },
  {
   "cell_type": "code",
   "execution_count": 22,
   "metadata": {},
   "outputs": [],
   "source": [
    "\n",
    "df_train = pd.DataFrame({\n",
    "    \"filenames\": dataset_train[b'filenames'],\n",
    "    \"labels\": dataset_train[b'fine_labels'],\n",
    "    \"row\": range(len(dataset_train[b'filenames']))\n",
    "})\n",
    "\n",
    "\n",
    "df_train = df_train.drop(df_train[(df_train[\"labels\"] != 8) & (df_train[\"labels\"] != 48)].index, axis=0)\n",
    "\n",
    "\n",
    "df_train[\"filenames\"] = df_train[\"filenames\"].apply(\n",
    "    lambda x: x.decode(\"utf-8\")\n",
    ")\n",
    "\n",
    "\n",
    "df_test = pd.DataFrame({\n",
    "    \"filenames\": dataset_test[b'filenames'],\n",
    "    \"labels\": dataset_test[b'fine_labels'],\n",
    "    \"row\": range(len(dataset_test[b'filenames']))\n",
    "})\n",
    "\n",
    "\n",
    "df_test = df_test.drop(df_test[(df_test[\"labels\"] != 8) & (df_test[\"labels\"] != 48)].index, axis=0)\n",
    "\n",
    "df_test[\"filenames\"] = df_test[\"filenames\"].apply(\n",
    "    lambda x: x.decode(\"utf-8\")\n",
    ")"
   ]
  },
  {
   "cell_type": "code",
   "execution_count": 23,
   "metadata": {},
   "outputs": [
    {
     "data": {
      "text/html": [
       "<div>\n",
       "<style scoped>\n",
       "    .dataframe tbody tr th:only-of-type {\n",
       "        vertical-align: middle;\n",
       "    }\n",
       "\n",
       "    .dataframe tbody tr th {\n",
       "        vertical-align: top;\n",
       "    }\n",
       "\n",
       "    .dataframe thead th {\n",
       "        text-align: right;\n",
       "    }\n",
       "</style>\n",
       "<table border=\"1\" class=\"dataframe\">\n",
       "  <thead>\n",
       "    <tr style=\"text-align: right;\">\n",
       "      <th></th>\n",
       "      <th>filenames</th>\n",
       "      <th>labels</th>\n",
       "      <th>row</th>\n",
       "    </tr>\n",
       "  </thead>\n",
       "  <tbody>\n",
       "    <tr>\n",
       "      <th>16</th>\n",
       "      <td>bike_s_000682.png</td>\n",
       "      <td>8</td>\n",
       "      <td>16</td>\n",
       "    </tr>\n",
       "    <tr>\n",
       "      <th>30</th>\n",
       "      <td>bike_s_000127.png</td>\n",
       "      <td>8</td>\n",
       "      <td>30</td>\n",
       "    </tr>\n",
       "    <tr>\n",
       "      <th>130</th>\n",
       "      <td>cycle_s_002598.png</td>\n",
       "      <td>8</td>\n",
       "      <td>130</td>\n",
       "    </tr>\n",
       "    <tr>\n",
       "      <th>152</th>\n",
       "      <td>minibike_s_000824.png</td>\n",
       "      <td>48</td>\n",
       "      <td>152</td>\n",
       "    </tr>\n",
       "    <tr>\n",
       "      <th>195</th>\n",
       "      <td>motorcycle_s_001856.png</td>\n",
       "      <td>48</td>\n",
       "      <td>195</td>\n",
       "    </tr>\n",
       "  </tbody>\n",
       "</table>\n",
       "</div>"
      ],
      "text/plain": [
       "                   filenames  labels  row\n",
       "16         bike_s_000682.png       8   16\n",
       "30         bike_s_000127.png       8   30\n",
       "130       cycle_s_002598.png       8  130\n",
       "152    minibike_s_000824.png      48  152\n",
       "195  motorcycle_s_001856.png      48  195"
      ]
     },
     "execution_count": 23,
     "metadata": {},
     "output_type": "execute_result"
    }
   ],
   "source": [
    "df_train.head()"
   ]
  },
  {
   "cell_type": "code",
   "execution_count": 24,
   "metadata": {},
   "outputs": [
    {
     "data": {
      "text/html": [
       "<div>\n",
       "<style scoped>\n",
       "    .dataframe tbody tr th:only-of-type {\n",
       "        vertical-align: middle;\n",
       "    }\n",
       "\n",
       "    .dataframe tbody tr th {\n",
       "        vertical-align: top;\n",
       "    }\n",
       "\n",
       "    .dataframe thead th {\n",
       "        text-align: right;\n",
       "    }\n",
       "</style>\n",
       "<table border=\"1\" class=\"dataframe\">\n",
       "  <thead>\n",
       "    <tr style=\"text-align: right;\">\n",
       "      <th></th>\n",
       "      <th>filenames</th>\n",
       "      <th>labels</th>\n",
       "      <th>row</th>\n",
       "    </tr>\n",
       "  </thead>\n",
       "  <tbody>\n",
       "    <tr>\n",
       "      <th>27</th>\n",
       "      <td>safety_bike_s_000390.png</td>\n",
       "      <td>8</td>\n",
       "      <td>27</td>\n",
       "    </tr>\n",
       "    <tr>\n",
       "      <th>28</th>\n",
       "      <td>bike_s_000658.png</td>\n",
       "      <td>8</td>\n",
       "      <td>28</td>\n",
       "    </tr>\n",
       "    <tr>\n",
       "      <th>116</th>\n",
       "      <td>velocipede_s_001744.png</td>\n",
       "      <td>8</td>\n",
       "      <td>116</td>\n",
       "    </tr>\n",
       "    <tr>\n",
       "      <th>161</th>\n",
       "      <td>bike_s_000643.png</td>\n",
       "      <td>8</td>\n",
       "      <td>161</td>\n",
       "    </tr>\n",
       "    <tr>\n",
       "      <th>319</th>\n",
       "      <td>ordinary_bicycle_s_000437.png</td>\n",
       "      <td>8</td>\n",
       "      <td>319</td>\n",
       "    </tr>\n",
       "  </tbody>\n",
       "</table>\n",
       "</div>"
      ],
      "text/plain": [
       "                         filenames  labels  row\n",
       "27        safety_bike_s_000390.png       8   27\n",
       "28               bike_s_000658.png       8   28\n",
       "116        velocipede_s_001744.png       8  116\n",
       "161              bike_s_000643.png       8  161\n",
       "319  ordinary_bicycle_s_000437.png       8  319"
      ]
     },
     "execution_count": 24,
     "metadata": {},
     "output_type": "execute_result"
    }
   ],
   "source": [
    "df_test.head()"
   ]
  },
  {
   "cell_type": "markdown",
   "metadata": {},
   "source": [
    "Now that the data is filtered for just our classes, we can save all our images."
   ]
  },
  {
   "cell_type": "code",
   "execution_count": 25,
   "metadata": {},
   "outputs": [
    {
     "name": "stdout",
     "output_type": "stream",
     "text": [
      "mkdir: cannot create directory ‘./train’: File exists\n",
      "mkdir: cannot create directory ‘./test’: File exists\n"
     ]
    }
   ],
   "source": [
    "!mkdir ./train\n",
    "!mkdir ./test"
   ]
  },
  {
   "cell_type": "code",
   "execution_count": 26,
   "metadata": {},
   "outputs": [
    {
     "data": {
      "text/plain": [
       "27      None\n",
       "28      None\n",
       "116     None\n",
       "161     None\n",
       "319     None\n",
       "        ... \n",
       "9654    None\n",
       "9692    None\n",
       "9833    None\n",
       "9928    None\n",
       "9939    None\n",
       "Length: 200, dtype: object"
      ]
     },
     "execution_count": 26,
     "metadata": {},
     "output_type": "execute_result"
    }
   ],
   "source": [
    "def save_images(df, index):\n",
    "    \n",
    "    if df is df_train:\n",
    "        img = dataset_train[b'data'][index] \n",
    "    elif df is df_test:\n",
    "        img = dataset_test[b'data'][index]\n",
    "    \n",
    "    \n",
    "    target = np.dstack((\n",
    "        img[0:1024].reshape(32,32),\n",
    "        img[1024:2048].reshape(32,32),\n",
    "        img[2048:].reshape(32,32)\n",
    "    ))\n",
    "    \n",
    "    \n",
    "    filename = df.loc[index, \"filenames\"]\n",
    "    \n",
    "    \n",
    "    if df is df_train:\n",
    "        plt.imsave(f\"./train/{filename}\", target)\n",
    "    elif df is df_test: \n",
    "        plt.imsave(f\"./test/{filename}\", target)\n",
    "    \n",
    "    return\n",
    "\n",
    "\n",
    "df_train.apply(lambda row: save_images(df_train, row.name), axis=1)\n",
    "df_test.apply(lambda row: save_images(df_test, row.name), axis=1)"
   ]
  },
  {
   "cell_type": "code",
   "execution_count": 27,
   "metadata": {},
   "outputs": [
    {
     "data": {
      "text/html": [
       "<div>\n",
       "<style scoped>\n",
       "    .dataframe tbody tr th:only-of-type {\n",
       "        vertical-align: middle;\n",
       "    }\n",
       "\n",
       "    .dataframe tbody tr th {\n",
       "        vertical-align: top;\n",
       "    }\n",
       "\n",
       "    .dataframe thead th {\n",
       "        text-align: right;\n",
       "    }\n",
       "</style>\n",
       "<table border=\"1\" class=\"dataframe\">\n",
       "  <thead>\n",
       "    <tr style=\"text-align: right;\">\n",
       "      <th></th>\n",
       "      <th>filenames</th>\n",
       "      <th>labels</th>\n",
       "      <th>row</th>\n",
       "    </tr>\n",
       "  </thead>\n",
       "  <tbody>\n",
       "    <tr>\n",
       "      <th>16</th>\n",
       "      <td>bike_s_000682.png</td>\n",
       "      <td>8</td>\n",
       "      <td>16</td>\n",
       "    </tr>\n",
       "    <tr>\n",
       "      <th>30</th>\n",
       "      <td>bike_s_000127.png</td>\n",
       "      <td>8</td>\n",
       "      <td>30</td>\n",
       "    </tr>\n",
       "    <tr>\n",
       "      <th>130</th>\n",
       "      <td>cycle_s_002598.png</td>\n",
       "      <td>8</td>\n",
       "      <td>130</td>\n",
       "    </tr>\n",
       "    <tr>\n",
       "      <th>152</th>\n",
       "      <td>minibike_s_000824.png</td>\n",
       "      <td>48</td>\n",
       "      <td>152</td>\n",
       "    </tr>\n",
       "    <tr>\n",
       "      <th>195</th>\n",
       "      <td>motorcycle_s_001856.png</td>\n",
       "      <td>48</td>\n",
       "      <td>195</td>\n",
       "    </tr>\n",
       "  </tbody>\n",
       "</table>\n",
       "</div>"
      ],
      "text/plain": [
       "                   filenames  labels  row\n",
       "16         bike_s_000682.png       8   16\n",
       "30         bike_s_000127.png       8   30\n",
       "130       cycle_s_002598.png       8  130\n",
       "152    minibike_s_000824.png      48  152\n",
       "195  motorcycle_s_001856.png      48  195"
      ]
     },
     "execution_count": 27,
     "metadata": {},
     "output_type": "execute_result"
    }
   ],
   "source": [
    "df_train.head()"
   ]
  },
  {
   "cell_type": "code",
   "execution_count": 28,
   "metadata": {},
   "outputs": [
    {
     "data": {
      "text/plain": [
       "'bike_s_000682.png'"
      ]
     },
     "execution_count": 28,
     "metadata": {},
     "output_type": "execute_result"
    }
   ],
   "source": [
    "df_train[\"filenames\"].iloc[0]"
   ]
  },
  {
   "cell_type": "code",
   "execution_count": 29,
   "metadata": {},
   "outputs": [
    {
     "name": "stdout",
     "output_type": "stream",
     "text": [
      "(32, 32)\n"
     ]
    },
    {
     "data": {
      "image/png": "[encoded data removed]",
      "text/plain": [
       "<Figure size 640x480 with 1 Axes>"
      ]
     },
     "metadata": {},
     "output_type": "display_data"
    }
   ],
   "source": [
    "from PIL import Image\n",
    "img = Image.open(\"./train/\" + df_train[\"filenames\"].iloc[0])\n",
    "print(img.size)\n",
    "plt.imshow(img)\n",
    "plt.show()"
   ]
  },
  {
   "cell_type": "markdown",
   "metadata": {},
   "source": [
    "### Load the data\n"
   ]
  },
  {
   "cell_type": "code",
   "execution_count": null,
   "metadata": {},
   "outputs": [],
   "source": [
    "import sagemaker\n",
    "from sagemaker.session import Session\n",
    "from sagemaker import get_execution_role\n",
    "\n",
    "role = get_execution_role()\n",
    "session = sagemaker.Session()\n",
    "region = session.boto_region_name\n",
    "bucket = session.default_bucket()\n",
    "\n",
    "bucket= bucket \n",
    "print(\"Default Bucket: {}\".format(bucket))\n",
    "\n",
    "print(\"Session: {}\".format(session))\n",
    "\n",
    "region = region\n",
    "print(\"AWS Region: {}\".format(region))\n",
    "\n",
    "role = role\n",
    "print(\"RoleArn: {}\".format(role))"
   ]
  },
  {
   "cell_type": "code",
   "execution_count": null,
   "metadata": {},
   "outputs": [],
   "source": [
    "import os\n",
    "\n",
    "os.environ[\"DEFAULT_S3_BUCKET\"] = bucket\n",
    "!aws s3 sync ./train s3://${DEFAULT_S3_BUCKET}/l2project/train/\n",
    "!aws s3 sync ./test s3://${DEFAULT_S3_BUCKET}/l2project/test/"
   ]
  },
  {
   "cell_type": "markdown",
   "metadata": {},
   "source": [
    "## Model Training\n"
   ]
  },
  {
   "cell_type": "code",
   "execution_count": 32,
   "metadata": {},
   "outputs": [],
   "source": [
    "def to_metadata_file(df, prefix):\n",
    "    df[\"s3_path\"] = df[\"filenames\"]\n",
    "    df[\"labels\"] = df[\"labels\"].apply(lambda x: 0 if x==8 else 1)\n",
    "    return df[[\"row\", \"labels\", \"s3_path\"]].to_csv(\n",
    "        f\"{prefix}.lst\", sep=\"\\t\", index=False, header=False\n",
    "    )\n",
    "    \n",
    "to_metadata_file(df_train.copy(), \"train\")\n",
    "to_metadata_file(df_test.copy(), \"test\")"
   ]
  },
  {
   "cell_type": "code",
   "execution_count": 33,
   "metadata": {},
   "outputs": [],
   "source": [
    "import boto3\n",
    "\n",
    "\n",
    "boto3.Session().resource('s3').Bucket(\n",
    "    bucket).Object('l2project/train.lst').upload_file('./train.lst')\n",
    "boto3.Session().resource('s3').Bucket(\n",
    "    bucket).Object('l2project/test.lst').upload_file('./test.lst')"
   ]
  },
  {
   "cell_type": "markdown",
   "metadata": {},
   "source": [
    "## Model creation"
   ]
  },
  {
   "cell_type": "code",
   "execution_count": 34,
   "metadata": {},
   "outputs": [
    {
     "name": "stderr",
     "output_type": "stream",
     "text": [
      "Defaulting to the only supported framework/algorithm version: 1. Ignoring framework/algorithm version: latest.\n"
     ]
    }
   ],
   "source": [
    "\n",
    "algo_image = sagemaker.image_uris.retrieve('image-classification',region,'latest')\n",
    "s3_output_location = f\"s3://{bucket}/l2project/models/image_model\""
   ]
  },
  {
   "cell_type": "code",
   "execution_count": 35,
   "metadata": {},
   "outputs": [],
   "source": [
    "img_classifier_model=sagemaker.estimator.Estimator(\n",
    "    image_uri=algo_image,\n",
    "    sagemaker_session=session,\n",
    "    role=role,\n",
    "    instance_count=1,\n",
    "    instance_type = \"ml.p3.2xlarge\",\n",
    "    output_path=s3_output_location\n",
    "\n",
    ")"
   ]
  },
  {
   "cell_type": "markdown",
   "metadata": {},
   "source": [
    "Hyperparameters definition"
   ]
  },
  {
   "cell_type": "code",
   "execution_count": 36,
   "metadata": {},
   "outputs": [],
   "source": [
    "img_classifier_model.set_hyperparameters(\n",
    "    image_shape= \"3,32,32\", \n",
    "    num_classes= 2, \n",
    "    num_training_samples= len(df_train) \n",
    ")"
   ]
  },
  {
   "cell_type": "markdown",
   "metadata": {},
   "source": [
    "Model Inputs"
   ]
  },
  {
   "cell_type": "code",
   "execution_count": 37,
   "metadata": {},
   "outputs": [],
   "source": [
    "from sagemaker.debugger import Rule, rule_configs\n",
    "from sagemaker.session import TrainingInput\n",
    "model_inputs = {\n",
    "        \"train\": sagemaker.inputs.TrainingInput(\n",
    "            s3_data=f\"s3://{bucket}/l2project/train/\",\n",
    "            content_type=\"application/x-image\"\n",
    "        ),\n",
    "        \"validation\": sagemaker.inputs.TrainingInput(\n",
    "            s3_data=f\"s3://{bucket}/l2project/test/\",\n",
    "            content_type=\"application/x-image\"\n",
    "        ),\n",
    "        \"train_lst\": sagemaker.inputs.TrainingInput(\n",
    "            s3_data=f\"s3://{bucket}/l2project/train.lst\",\n",
    "            content_type=\"application/x-image\"\n",
    "        ),\n",
    "        \"validation_lst\": sagemaker.inputs.TrainingInput(\n",
    "            s3_data=f\"s3://{bucket}/l2project/test.lst\",\n",
    "            content_type=\"application/x-image\"\n",
    "        )\n",
    "}"
   ]
  },
  {
   "cell_type": "markdown",
   "metadata": {},
   "source": [
    "Model training"
   ]
  },
  {
   "cell_type": "code",
   "execution_count": 38,
   "metadata": {},
   "outputs": [
    {
     "name": "stderr",
     "output_type": "stream",
     "text": [
      "INFO:sagemaker:Creating training-job with name: image-classification-2024-04-01-18-27-31-072\n"
     ]
    },
    {
     "name": "stdout",
     "output_type": "stream",
     "text": [
      "2024-04-01 18:27:31 Starting - Starting the training job\n",
      "2024-04-01 18:27:31 Pending - Training job waiting for capacity......\n",
      "2024-04-01 18:28:26 Pending - Preparing the instances for training...\n",
      "2024-04-01 18:28:55 Downloading - Downloading input data...\n",
      "2024-04-01 18:29:15 Downloading - Downloading the training image...........................\n",
      "2024-04-01 18:34:01 Training - Training image download completed. Training in progress.....Docker entrypoint called with argument(s): train\n",
      "Running default environment configuration script\n",
      "Nvidia gpu devices, drivers and cuda toolkit versions (only available on hosts with GPU):\n",
      "Mon Apr  1 18:34:28 2024       \n",
      "+---------------------------------------------------------------------------------------+\n",
      "| NVIDIA-SMI 535.104.12             Driver Version: 535.104.12   CUDA Version: 12.2     |\n",
      "|-----------------------------------------+----------------------+----------------------+\n",
      "| GPU  Name                 Persistence-M | Bus-Id        Disp.A | Volatile Uncorr. ECC |\n",
      "| Fan  Temp   Perf          Pwr:Usage/Cap |         Memory-Usage | GPU-Util  Compute M. |\n",
      "|                                         |                      |               MIG M. |\n",
      "|=========================================+======================+======================|\n",
      "|   0  Tesla V100-SXM2-16GB           On  | 00000000:00:1E.0 Off |                    0 |\n",
      "| N/A   28C    P0              23W / 300W |      0MiB / 16384MiB |      0%      Default |\n",
      "|                                         |                      |                  N/A |\n",
      "+-----------------------------------------+----------------------+----------------------+\n",
      "                                                                                         \n",
      "+---------------------------------------------------------------------------------------+\n",
      "| Processes:                                                                            |\n",
      "|  GPU   GI   CI        PID   Type   Process name                            GPU Memory |\n",
      "|        ID   ID                                                             Usage      |\n",
      "|=======================================================================================|\n",
      "|  No running processes found                                                           |\n",
      "+---------------------------------------------------------------------------------------+\n",
      "Checking for nvidia driver and cuda compatibility.\n",
      "CUDA Compatibility driver provided.\n",
      "Proceeding with compatibility check between driver, cuda-toolkit and cuda-compat.\n",
      "Detected cuda-toolkit version: 11.1.\n",
      "Detected cuda-compat version: 455.32.00.\n",
      "Detected Nvidia driver version: 535.104.12.\n",
      "Nvidia driver compatible with cuda-toolkit. Disabling cuda-compat.\n",
      "/opt/amazon/lib/python3.8/site-packages/mxnet/model.py:97: SyntaxWarning: \"is\" with a literal. Did you mean \"==\"?\n",
      "  if num_device is 1 and 'dist' not in kvstore:\n",
      "[04/01/2024 18:34:32 INFO 140266922161984] Reading default configuration from /opt/amazon/lib/python3.8/site-packages/image_classification/default-input.json: {'use_pretrained_model': 0, 'num_layers': 152, 'epochs': 30, 'learning_rate': 0.1, 'lr_scheduler_factor': 0.1, 'optimizer': 'sgd', 'momentum': 0, 'weight_decay': 0.0001, 'beta_1': 0.9, 'beta_2': 0.999, 'eps': 1e-08, 'gamma': 0.9, 'mini_batch_size': 32, 'image_shape': '3,224,224', 'precision_dtype': 'float32'}\n",
      "[04/01/2024 18:34:32 INFO 140266922161984] Merging with provided configuration from /opt/ml/input/config/hyperparameters.json: {'image_shape': '3,32,32', 'num_classes': '2', 'num_training_samples': '1000'}\n",
      "[04/01/2024 18:34:32 INFO 140266922161984] Final configuration: {'use_pretrained_model': 0, 'num_layers': 152, 'epochs': 30, 'learning_rate': 0.1, 'lr_scheduler_factor': 0.1, 'optimizer': 'sgd', 'momentum': 0, 'weight_decay': 0.0001, 'beta_1': 0.9, 'beta_2': 0.999, 'eps': 1e-08, 'gamma': 0.9, 'mini_batch_size': 32, 'image_shape': '3,32,32', 'precision_dtype': 'float32', 'num_classes': '2', 'num_training_samples': '1000'}\n",
      "[04/01/2024 18:34:32 INFO 140266922161984] Searching for .lst files in /opt/ml/input/data/train_lst.\n",
      "[04/01/2024 18:34:32 INFO 140266922161984] Creating record files for train.lst\n",
      "[04/01/2024 18:34:33 INFO 140266922161984] Done creating record files...\n",
      "[04/01/2024 18:34:33 INFO 140266922161984] Searching for .lst files in /opt/ml/input/data/validation_lst.\n",
      "[04/01/2024 18:34:33 INFO 140266922161984] Creating record files for test.lst\n",
      "[04/01/2024 18:34:33 INFO 140266922161984] Done creating record files...\n",
      "[04/01/2024 18:34:33 INFO 140266922161984] use_pretrained_model: 0\n",
      "[04/01/2024 18:34:33 INFO 140266922161984] multi_label: 0\n",
      "[04/01/2024 18:34:33 INFO 140266922161984] Performing random weight initialization\n",
      "[04/01/2024 18:34:33 INFO 140266922161984] ---- Parameters ----\n",
      "[04/01/2024 18:34:33 INFO 140266922161984] num_layers: 152\n",
      "[04/01/2024 18:34:33 INFO 140266922161984] data type: <class 'numpy.float32'>\n",
      "[04/01/2024 18:34:33 INFO 140266922161984] epochs: 30\n",
      "[04/01/2024 18:34:33 INFO 140266922161984] optimizer: sgd\n",
      "[04/01/2024 18:34:33 INFO 140266922161984] momentum: 0.9\n",
      "[04/01/2024 18:34:33 INFO 140266922161984] weight_decay: 0.0001\n",
      "[04/01/2024 18:34:33 INFO 140266922161984] learning_rate: 0.1\n",
      "[04/01/2024 18:34:33 INFO 140266922161984] num_training_samples: 1000\n",
      "[04/01/2024 18:34:33 INFO 140266922161984] mini_batch_size: 32\n",
      "[04/01/2024 18:34:33 INFO 140266922161984] image_shape: 3,32,32\n",
      "[04/01/2024 18:34:33 INFO 140266922161984] num_classes: 2\n",
      "[04/01/2024 18:34:33 INFO 140266922161984] augmentation_type: None\n",
      "[04/01/2024 18:34:33 INFO 140266922161984] kv_store: device\n",
      "[04/01/2024 18:34:33 INFO 140266922161984] checkpoint_frequency not set, will store the best model\n",
      "[04/01/2024 18:34:33 INFO 140266922161984] --------------------\n",
      "/opt/amazon/python3.8/lib/python3.8/subprocess.py:848: RuntimeWarning: line buffering (buffering=1) isn't supported in binary mode, the default buffer size will be used\n",
      "  self.stdout = io.open(c2pread, 'rb', bufsize)\n",
      "[04/01/2024 18:34:33 INFO 140266922161984] Setting number of threads: 7\n",
      "[18:34:37] /opt/brazil-pkg-cache/packages/AIAlgorithmsMXNet/AIAlgorithmsMXNet-1.4.x_ecl_Cuda_11.1.x.379.0/AL2_x86_64/generic-flavor/src/src/operator/nn/./cudnn/./cudnn_algoreg-inl.h:97: Running performance tests to find the best convolution algorithm, this can take a while... (setting env variable MXNET_CUDNN_AUTOTUNE_DEFAULT to 0 to disable)\n",
      "[04/01/2024 18:34:42 INFO 140266922161984] Epoch[0] Batch [20]#011Speed: 120.604 samples/sec#011accuracy=0.561012\n",
      "[04/01/2024 18:34:44 INFO 140266922161984] Epoch[0] Train-accuracy=0.604839\n",
      "[04/01/2024 18:34:44 INFO 140266922161984] Epoch[0] Time cost=6.974\n",
      "[04/01/2024 18:34:45 INFO 140266922161984] Epoch[0] Validation-accuracy=0.505208\n",
      "[04/01/2024 18:34:45 INFO 140266922161984] Storing the best model with validation accuracy: 0.505208\n",
      "[04/01/2024 18:34:45 INFO 140266922161984] Saved checkpoint to \"/opt/ml/model/image-classification-0001.params\"\n",
      "[04/01/2024 18:34:49 INFO 140266922161984] Epoch[1] Batch [20]#011Speed: 183.545 samples/sec#011accuracy=0.663690\n",
      "[04/01/2024 18:34:50 INFO 140266922161984] Epoch[1] Train-accuracy=0.677419\n",
      "[04/01/2024 18:34:50 INFO 140266922161984] Epoch[1] Time cost=5.147\n",
      "[04/01/2024 18:34:51 INFO 140266922161984] Epoch[1] Validation-accuracy=0.755208\n",
      "[04/01/2024 18:34:51 INFO 140266922161984] Storing the best model with validation accuracy: 0.755208\n",
      "[04/01/2024 18:34:52 INFO 140266922161984] Saved checkpoint to \"/opt/ml/model/image-classification-0002.params\"\n",
      "[04/01/2024 18:34:55 INFO 140266922161984] Epoch[2] Batch [20]#011Speed: 187.493 samples/sec#011accuracy=0.747024\n",
      "[04/01/2024 18:34:57 INFO 140266922161984] Epoch[2] Train-accuracy=0.725806\n",
      "[04/01/2024 18:34:57 INFO 140266922161984] Epoch[2] Time cost=5.106\n",
      "[04/01/2024 18:34:57 INFO 140266922161984] Epoch[2] Validation-accuracy=0.765625\n",
      "[04/01/2024 18:34:57 INFO 140266922161984] Storing the best model with validation accuracy: 0.765625\n",
      "[04/01/2024 18:34:58 INFO 140266922161984] Saved checkpoint to \"/opt/ml/model/image-classification-0003.params\"\n",
      "[04/01/2024 18:35:01 INFO 140266922161984] Epoch[3] Batch [20]#011Speed: 186.698 samples/sec#011accuracy=0.745536\n",
      "[04/01/2024 18:35:03 INFO 140266922161984] Epoch[3] Train-accuracy=0.767137\n",
      "[04/01/2024 18:35:03 INFO 140266922161984] Epoch[3] Time cost=5.177\n",
      "[04/01/2024 18:35:04 INFO 140266922161984] Epoch[3] Validation-accuracy=0.830357\n",
      "[04/01/2024 18:35:04 INFO 140266922161984] Storing the best model with validation accuracy: 0.830357\n",
      "[04/01/2024 18:35:04 INFO 140266922161984] Saved checkpoint to \"/opt/ml/model/image-classification-0004.params\"\n",
      "[04/01/2024 18:35:08 INFO 140266922161984] Epoch[4] Batch [20]#011Speed: 186.905 samples/sec#011accuracy=0.778274\n",
      "[04/01/2024 18:35:09 INFO 140266922161984] Epoch[4] Train-accuracy=0.779234\n",
      "[04/01/2024 18:35:09 INFO 140266922161984] Epoch[4] Time cost=5.100\n",
      "[04/01/2024 18:35:10 INFO 140266922161984] Epoch[4] Validation-accuracy=0.828125\n",
      "[04/01/2024 18:35:14 INFO 140266922161984] Epoch[5] Batch [20]#011Speed: 188.958 samples/sec#011accuracy=0.809524\n",
      "[04/01/2024 18:35:15 INFO 140266922161984] Epoch[5] Train-accuracy=0.793347\n",
      "[04/01/2024 18:35:15 INFO 140266922161984] Epoch[5] Time cost=5.053\n",
      "[04/01/2024 18:35:16 INFO 140266922161984] Epoch[5] Validation-accuracy=0.750000\n",
      "[04/01/2024 18:35:20 INFO 140266922161984] Epoch[6] Batch [20]#011Speed: 187.333 samples/sec#011accuracy=0.855655\n",
      "[04/01/2024 18:35:21 INFO 140266922161984] Epoch[6] Train-accuracy=0.837702\n",
      "[04/01/2024 18:35:21 INFO 140266922161984] Epoch[6] Time cost=5.109\n",
      "[04/01/2024 18:35:22 INFO 140266922161984] Epoch[6] Validation-accuracy=0.848958\n",
      "[04/01/2024 18:35:22 INFO 140266922161984] Storing the best model with validation accuracy: 0.848958\n",
      "[04/01/2024 18:35:23 INFO 140266922161984] Saved checkpoint to \"/opt/ml/model/image-classification-0007.params\"\n",
      "[04/01/2024 18:35:26 INFO 140266922161984] Epoch[7] Batch [20]#011Speed: 188.391 samples/sec#011accuracy=0.837798\n",
      "[04/01/2024 18:35:28 INFO 140266922161984] Epoch[7] Train-accuracy=0.828629\n",
      "[04/01/2024 18:35:28 INFO 140266922161984] Epoch[7] Time cost=5.060\n",
      "[04/01/2024 18:35:28 INFO 140266922161984] Epoch[7] Validation-accuracy=0.812500\n",
      "[04/01/2024 18:35:32 INFO 140266922161984] Epoch[8] Batch [20]#011Speed: 185.825 samples/sec#011accuracy=0.843750\n",
      "[04/01/2024 18:35:34 INFO 140266922161984] Epoch[8] Train-accuracy=0.841734\n",
      "[04/01/2024 18:35:34 INFO 140266922161984] Epoch[8] Time cost=5.115\n",
      "[04/01/2024 18:35:34 INFO 140266922161984] Epoch[8] Validation-accuracy=0.812500\n",
      "[04/01/2024 18:35:38 INFO 140266922161984] Epoch[9] Batch [20]#011Speed: 188.604 samples/sec#011accuracy=0.830357\n",
      "[04/01/2024 18:35:40 INFO 140266922161984] Epoch[9] Train-accuracy=0.839718\n",
      "[04/01/2024 18:35:40 INFO 140266922161984] Epoch[9] Time cost=5.061\n",
      "[04/01/2024 18:35:40 INFO 140266922161984] Epoch[9] Validation-accuracy=0.848958\n",
      "[04/01/2024 18:35:44 INFO 140266922161984] Epoch[10] Batch [20]#011Speed: 187.522 samples/sec#011accuracy=0.877976\n",
      "[04/01/2024 18:35:46 INFO 140266922161984] Epoch[10] Train-accuracy=0.858871\n",
      "[04/01/2024 18:35:46 INFO 140266922161984] Epoch[10] Time cost=5.092\n",
      "[04/01/2024 18:35:46 INFO 140266922161984] Epoch[10] Validation-accuracy=0.812500\n",
      "[04/01/2024 18:35:50 INFO 140266922161984] Epoch[11] Batch [20]#011Speed: 189.545 samples/sec#011accuracy=0.851190\n",
      "[04/01/2024 18:35:52 INFO 140266922161984] Epoch[11] Train-accuracy=0.851815\n",
      "[04/01/2024 18:35:52 INFO 140266922161984] Epoch[11] Time cost=5.027\n",
      "[04/01/2024 18:35:52 INFO 140266922161984] Epoch[11] Validation-accuracy=0.825893\n",
      "[04/01/2024 18:35:56 INFO 140266922161984] Epoch[12] Batch [20]#011Speed: 187.446 samples/sec#011accuracy=0.880952\n",
      "[04/01/2024 18:35:58 INFO 140266922161984] Epoch[12] Train-accuracy=0.877016\n",
      "[04/01/2024 18:35:58 INFO 140266922161984] Epoch[12] Time cost=5.084\n",
      "[04/01/2024 18:35:58 INFO 140266922161984] Epoch[12] Validation-accuracy=0.828125\n",
      "[04/01/2024 18:36:02 INFO 140266922161984] Epoch[13] Batch [20]#011Speed: 186.586 samples/sec#011accuracy=0.910714\n",
      "[04/01/2024 18:36:04 INFO 140266922161984] Epoch[13] Train-accuracy=0.910282\n",
      "[04/01/2024 18:36:04 INFO 140266922161984] Epoch[13] Time cost=5.169\n",
      "[04/01/2024 18:36:04 INFO 140266922161984] Epoch[13] Validation-accuracy=0.843750\n",
      "[04/01/2024 18:36:08 INFO 140266922161984] Epoch[14] Batch [20]#011Speed: 188.655 samples/sec#011accuracy=0.910714\n",
      "[04/01/2024 18:36:10 INFO 140266922161984] Epoch[14] Train-accuracy=0.907258\n",
      "[04/01/2024 18:36:10 INFO 140266922161984] Epoch[14] Time cost=5.054\n",
      "[04/01/2024 18:36:10 INFO 140266922161984] Epoch[14] Validation-accuracy=0.843750\n",
      "[04/01/2024 18:36:14 INFO 140266922161984] Epoch[15] Batch [20]#011Speed: 188.862 samples/sec#011accuracy=0.916667\n",
      "[04/01/2024 18:36:16 INFO 140266922161984] Epoch[15] Train-accuracy=0.907258\n",
      "[04/01/2024 18:36:16 INFO 140266922161984] Epoch[15] Time cost=5.049\n",
      "[04/01/2024 18:36:16 INFO 140266922161984] Epoch[15] Validation-accuracy=0.830357\n",
      "[04/01/2024 18:36:20 INFO 140266922161984] Epoch[16] Batch [20]#011Speed: 186.533 samples/sec#011accuracy=0.927083\n",
      "[04/01/2024 18:36:22 INFO 140266922161984] Epoch[16] Train-accuracy=0.909274\n",
      "[04/01/2024 18:36:22 INFO 140266922161984] Epoch[16] Time cost=5.086\n",
      "[04/01/2024 18:36:22 INFO 140266922161984] Epoch[16] Validation-accuracy=0.781250\n",
      "[04/01/2024 18:36:26 INFO 140266922161984] Epoch[17] Batch [20]#011Speed: 186.680 samples/sec#011accuracy=0.933036\n",
      "[04/01/2024 18:36:28 INFO 140266922161984] Epoch[17] Train-accuracy=0.934476\n",
      "[04/01/2024 18:36:28 INFO 140266922161984] Epoch[17] Time cost=5.096\n",
      "[04/01/2024 18:36:29 INFO 140266922161984] Epoch[17] Validation-accuracy=0.812500\n",
      "[04/01/2024 18:36:32 INFO 140266922161984] Epoch[18] Batch [20]#011Speed: 189.165 samples/sec#011accuracy=0.895833\n",
      "[04/01/2024 18:36:34 INFO 140266922161984] Epoch[18] Train-accuracy=0.905242\n",
      "[04/01/2024 18:36:34 INFO 140266922161984] Epoch[18] Time cost=5.055\n",
      "[04/01/2024 18:36:35 INFO 140266922161984] Epoch[18] Validation-accuracy=0.859375\n",
      "[04/01/2024 18:36:35 INFO 140266922161984] Storing the best model with validation accuracy: 0.859375\n",
      "[04/01/2024 18:36:35 INFO 140266922161984] Saved checkpoint to \"/opt/ml/model/image-classification-0019.params\"\n",
      "[04/01/2024 18:36:39 INFO 140266922161984] Epoch[19] Batch [20]#011Speed: 188.567 samples/sec#011accuracy=0.937500\n",
      "[04/01/2024 18:36:40 INFO 140266922161984] Epoch[19] Train-accuracy=0.931452\n",
      "[04/01/2024 18:36:40 INFO 140266922161984] Epoch[19] Time cost=5.061\n",
      "[04/01/2024 18:36:41 INFO 140266922161984] Epoch[19] Validation-accuracy=0.852679\n",
      "[04/01/2024 18:36:45 INFO 140266922161984] Epoch[20] Batch [20]#011Speed: 187.927 samples/sec#011accuracy=0.921131\n",
      "[04/01/2024 18:36:46 INFO 140266922161984] Epoch[20] Train-accuracy=0.930444\n",
      "[04/01/2024 18:36:46 INFO 140266922161984] Epoch[20] Time cost=5.070\n",
      "[04/01/2024 18:36:47 INFO 140266922161984] Epoch[20] Validation-accuracy=0.833333\n",
      "[04/01/2024 18:36:51 INFO 140266922161984] Epoch[21] Batch [20]#011Speed: 188.856 samples/sec#011accuracy=0.947917\n",
      "[04/01/2024 18:36:52 INFO 140266922161984] Epoch[21] Train-accuracy=0.951613\n",
      "[04/01/2024 18:36:52 INFO 140266922161984] Epoch[21] Time cost=5.082\n",
      "[04/01/2024 18:36:53 INFO 140266922161984] Epoch[21] Validation-accuracy=0.848958\n",
      "[04/01/2024 18:36:57 INFO 140266922161984] Epoch[22] Batch [20]#011Speed: 188.870 samples/sec#011accuracy=0.958333\n",
      "[04/01/2024 18:36:58 INFO 140266922161984] Epoch[22] Train-accuracy=0.952621\n",
      "[04/01/2024 18:36:58 INFO 140266922161984] Epoch[22] Time cost=5.065\n",
      "[04/01/2024 18:36:59 INFO 140266922161984] Epoch[22] Validation-accuracy=0.833333\n",
      "[04/01/2024 18:37:03 INFO 140266922161984] Epoch[23] Batch [20]#011Speed: 184.209 samples/sec#011accuracy=0.961310\n",
      "[04/01/2024 18:37:04 INFO 140266922161984] Epoch[23] Train-accuracy=0.962702\n",
      "[04/01/2024 18:37:04 INFO 140266922161984] Epoch[23] Time cost=5.175\n",
      "[04/01/2024 18:37:05 INFO 140266922161984] Epoch[23] Validation-accuracy=0.825893\n",
      "[04/01/2024 18:37:09 INFO 140266922161984] Epoch[24] Batch [20]#011Speed: 186.191 samples/sec#011accuracy=0.947917\n",
      "[04/01/2024 18:37:11 INFO 140266922161984] Epoch[24] Train-accuracy=0.950605\n",
      "[04/01/2024 18:37:11 INFO 140266922161984] Epoch[24] Time cost=5.119\n",
      "[04/01/2024 18:37:11 INFO 140266922161984] Epoch[24] Validation-accuracy=0.828125\n",
      "[04/01/2024 18:37:15 INFO 140266922161984] Epoch[25] Batch [20]#011Speed: 189.180 samples/sec#011accuracy=0.976190\n",
      "[04/01/2024 18:37:17 INFO 140266922161984] Epoch[25] Train-accuracy=0.967742\n",
      "[04/01/2024 18:37:17 INFO 140266922161984] Epoch[25] Time cost=5.022\n",
      "[04/01/2024 18:37:17 INFO 140266922161984] Epoch[25] Validation-accuracy=0.781250\n",
      "[04/01/2024 18:37:21 INFO 140266922161984] Epoch[26] Batch [20]#011Speed: 189.198 samples/sec#011accuracy=0.922619\n",
      "[04/01/2024 18:37:23 INFO 140266922161984] Epoch[26] Train-accuracy=0.926411\n",
      "[04/01/2024 18:37:23 INFO 140266922161984] Epoch[26] Time cost=5.048\n",
      "[04/01/2024 18:37:23 INFO 140266922161984] Epoch[26] Validation-accuracy=0.828125\n",
      "[04/01/2024 18:37:27 INFO 140266922161984] Epoch[27] Batch [20]#011Speed: 188.920 samples/sec#011accuracy=0.971726\n",
      "[04/01/2024 18:37:29 INFO 140266922161984] Epoch[27] Train-accuracy=0.973790\n",
      "[04/01/2024 18:37:29 INFO 140266922161984] Epoch[27] Time cost=5.064\n",
      "[04/01/2024 18:37:29 INFO 140266922161984] Epoch[27] Validation-accuracy=0.812500\n",
      "[04/01/2024 18:37:33 INFO 140266922161984] Epoch[28] Batch [20]#011Speed: 187.428 samples/sec#011accuracy=0.989583\n",
      "[04/01/2024 18:37:35 INFO 140266922161984] Epoch[28] Train-accuracy=0.984879\n",
      "[04/01/2024 18:37:35 INFO 140266922161984] Epoch[28] Time cost=5.105\n",
      "[04/01/2024 18:37:35 INFO 140266922161984] Epoch[28] Validation-accuracy=0.812500\n",
      "[04/01/2024 18:37:39 INFO 140266922161984] Epoch[29] Batch [20]#011Speed: 187.212 samples/sec#011accuracy=0.985119\n",
      "[04/01/2024 18:37:41 INFO 140266922161984] Epoch[29] Train-accuracy=0.978831\n",
      "[04/01/2024 18:37:41 INFO 140266922161984] Epoch[29] Time cost=5.070\n",
      "[04/01/2024 18:37:41 INFO 140266922161984] Epoch[29] Validation-accuracy=0.828125\n",
      "\n",
      "2024-04-01 18:38:04 Uploading - Uploading generated training model\n",
      "2024-04-01 18:38:04 Completed - Training job completed\n",
      "Training seconds: 548\n",
      "Billable seconds: 548\n"
     ]
    }
   ],
   "source": [
    "img_classifier_model.fit(model_inputs)"
   ]
  },
  {
   "cell_type": "code",
   "execution_count": 5,
   "metadata": {},
   "outputs": [
    {
     "name": "stdout",
     "output_type": "stream",
     "text": [
      "sagemaker.config INFO - Not applying SDK defaults from location: /etc/xdg/sagemaker/config.yaml\n",
      "sagemaker.config INFO - Not applying SDK defaults from location: /home/sagemaker-user/.config/sagemaker/config.yaml\n"
     ]
    }
   ],
   "source": [
    "# from sagemaker.model import Model\n",
    "\n",
    "# image_uri = sagemaker.image_uris.retrieve(framework='image-classification',region=region)\n",
    "\n",
    "# model_data = \"s3://bucket/l2project/models/image_model/image-classification-2024-03-31-23-22-08-785/output/model.tar.gz\"\n",
    "\n",
    "# img_classifier_model = Model(image_uri=image_uri, model_data=model_data, role=role)"
   ]
  },
  {
   "cell_type": "markdown",
   "metadata": {},
   "source": [
    "## Model deployment"
   ]
  },
  {
   "cell_type": "code",
   "execution_count": 39,
   "metadata": {},
   "outputs": [
    {
     "name": "stdout",
     "output_type": "stream",
     "text": [
      "sagemaker.config INFO - Not applying SDK defaults from location: /etc/xdg/sagemaker/config.yaml\n",
      "sagemaker.config INFO - Not applying SDK defaults from location: /home/sagemaker-user/.config/sagemaker/config.yaml\n"
     ]
    }
   ],
   "source": [
    "from sagemaker.model_monitor import DataCaptureConfig\n",
    "\n",
    "data_capture_config = DataCaptureConfig(enable_capture = True,\n",
    "                                        sampling_percentage = 100,\n",
    "                                        destination_s3_uri=f\"s3://{bucket}/l2project/data_capture\")\n"
   ]
  },
  {
   "cell_type": "code",
   "execution_count": 40,
   "metadata": {},
   "outputs": [
    {
     "name": "stderr",
     "output_type": "stream",
     "text": [
      "INFO:sagemaker:Creating model with name: image-classification-2024-04-01-18-38-28-650\n",
      "INFO:sagemaker:Creating endpoint-config with name image-classification-2024-04-01-18-38-28-650\n",
      "INFO:sagemaker:Creating endpoint with name image-classification-2024-04-01-18-38-28-650\n"
     ]
    },
    {
     "name": "stdout",
     "output_type": "stream",
     "text": [
      "--------------!image-classification-2024-04-01-18-38-28-650\n"
     ]
    }
   ],
   "source": [
    "deployment = img_classifier_model.deploy(\n",
    "    initial_instance_count=1,\n",
    "    instance_type=\"ml.m5.xlarge\",\n",
    "    data_capture_config=data_capture_config\n",
    "    )\n",
    "\n",
    "endpoint = deployment.endpoint_name\n",
    "print(endpoint)"
   ]
  },
  {
   "cell_type": "code",
   "execution_count": 41,
   "metadata": {},
   "outputs": [
    {
     "name": "stdout",
     "output_type": "stream",
     "text": [
      "sagemaker.config INFO - Not applying SDK defaults from location: /etc/xdg/sagemaker/config.yaml\n",
      "sagemaker.config INFO - Not applying SDK defaults from location: /home/sagemaker-user/.config/sagemaker/config.yaml\n"
     ]
    }
   ],
   "source": [
    "predictor = sagemaker.predictor.Predictor(endpoint)"
   ]
  },
  {
   "cell_type": "code",
   "execution_count": 42,
   "metadata": {},
   "outputs": [],
   "source": [
    "from sagemaker.serializers import IdentitySerializer\n",
    "import base64\n",
    "import json\n",
    "\n",
    "predictor.serializer = IdentitySerializer(\"image/png\")\n",
    "with open(\"./test/bicycle_s_001789.png\", \"rb\") as f:\n",
    "    payload = base64.b64encode(f.read())\n",
    "\n",
    "    \n",
    "inference = predictor.predict((base64.b64decode(payload)), initial_args={'ContentType': 'image/png'})"
   ]
  },
  {
   "cell_type": "code",
   "execution_count": 43,
   "metadata": {},
   "outputs": [
    {
     "name": "stdout",
     "output_type": "stream",
     "text": [
      "b'[0.8232995271682739, 0.17670048773288727]'\n"
     ]
    }
   ],
   "source": [
    "print(inference)"
   ]
  },
  {
   "cell_type": "markdown",
   "metadata": {},
   "source": [
    "### Make 3 lambda functions for automatic invokation of Model and prediction. Included in models/lambda.py"
   ]
  },
  {
   "cell_type": "markdown",
   "metadata": {},
   "source": [
    "### StepFunction testing"
   ]
  },
  {
   "cell_type": "code",
   "execution_count": null,
   "metadata": {},
   "outputs": [],
   "source": [
    "import random\n",
    "import boto3\n",
    "import json\n",
    "\n",
    "\n",
    "def generate_test_case():\n",
    "    \n",
    "    s3 = boto3.resource('s3')\n",
    "    \n",
    "    # Randomly pick from sfn or test folders in our bucket\n",
    "    objects = s3.Bucket(bucket).objects.filter(Prefix='l2project/test')\n",
    "    \n",
    "    \n",
    "    obj = random.choice([x.key for x in objects])\n",
    "    \n",
    "    return json.dumps({\n",
    "        \"image_data\": \"\",\n",
    "        \"s3_bucket\": bucket,\n",
    "        \"s3_key\": obj\n",
    "    })\n",
    "generate_test_case()"
   ]
  },
  {
   "cell_type": "code",
   "execution_count": 108,
   "metadata": {},
   "outputs": [
    {
     "name": "stdout",
     "output_type": "stream",
     "text": [
      "sagemaker.config INFO - Not applying SDK defaults from location: /etc/xdg/sagemaker/config.yaml\n",
      "sagemaker.config INFO - Not applying SDK defaults from location: /home/sagemaker-user/.config/sagemaker/config.yaml\n"
     ]
    },
    {
     "data": {
      "text/plain": [
       "['captured_data/00-58-352-aee90f1e-8fcd-4888-9810-dd9fd4dfd104.jsonl',\n",
       " 'captured_data/03-04-176-fb8c1f77-ec81-4697-8504-9d29611d4a9a.jsonl',\n",
       " 'captured_data/21-13-714-12a464fa-1f4a-42a0-b0c1-49afc9bda348.jsonl',\n",
       " 'captured_data/32-18-695-39f757b6-8ab7-4ce2-bc10-4430c3a19a39.jsonl',\n",
       " 'captured_data/33-32-077-eed1b468-8451-4534-a224-ca5383680e29.jsonl',\n",
       " 'captured_data/38-11-941-3ccba2b0-122f-4844-925d-7975fdd32e7f.jsonl',\n",
       " 'captured_data/39-38-396-90d074a4-98eb-4178-aa8f-ed9923cebe6e.jsonl',\n",
       " 'captured_data/40-52-760-526f87b1-86bd-4709-af3a-a49db42b99c4.jsonl',\n",
       " 'captured_data/41-56-096-389215c4-8c46-4831-b4b3-64790706c43d.jsonl',\n",
       " 'captured_data/43-07-989-d74d2814-1e32-400f-9a09-6a8c517ca4a3.jsonl']"
      ]
     },
     "execution_count": 108,
     "metadata": {},
     "output_type": "execute_result"
    }
   ],
   "source": [
    "from sagemaker.s3 import S3Downloader\n",
    "\n",
    "data_path = \"s3://bucket/l2project/data_capture/image-classification-2024-04-01-18-38-28-650/AllTraffic/2024/04/01/19/\"\n",
    "\n",
    "\n",
    "S3Downloader.download(data_path, \"captured_data\")\n",
    "\n"
   ]
  },
  {
   "cell_type": "code",
   "execution_count": 52,
   "metadata": {},
   "outputs": [
    {
     "name": "stdout",
     "output_type": "stream",
     "text": [
      "Collecting jsonlines\n",
      "  Downloading jsonlines-4.0.0-py3-none-any.whl.metadata (1.6 kB)\n",
      "Requirement already satisfied: attrs>=19.2.0 in /opt/conda/lib/python3.10/site-packages (from jsonlines) (23.2.0)\n",
      "Downloading jsonlines-4.0.0-py3-none-any.whl (8.7 kB)\n",
      "Installing collected packages: jsonlines\n",
      "Successfully installed jsonlines-4.0.0\n"
     ]
    }
   ],
   "source": [
    "!pip install jsonlines\n",
    "import jsonlines"
   ]
  },
  {
   "cell_type": "code",
   "execution_count": 109,
   "metadata": {},
   "outputs": [],
   "source": [
    "import os\n",
    "\n",
    "\n",
    "file_handles = os.listdir(\"./captured_data\")\n",
    "\n",
    "\n",
    "json_data = []\n",
    "for jsonl in file_handles:\n",
    "    with jsonlines.open(f\"./captured_data/{jsonl}\") as f:\n",
    "        json_data.append(f.read())"
   ]
  },
  {
   "cell_type": "code",
   "execution_count": 110,
   "metadata": {},
   "outputs": [
    {
     "data": {
      "text/plain": [
       "([0.980899453163147, 0.01910053938627243], '2024-04-01T19:00:58Z')"
      ]
     },
     "execution_count": 110,
     "metadata": {},
     "output_type": "execute_result"
    }
   ],
   "source": [
    "\n",
    "def simple_getter(obj):\n",
    "    inferences = obj[\"captureData\"][\"endpointOutput\"][\"data\"]\n",
    "    timestamp = obj[\"eventMetadata\"][\"inferenceTime\"]\n",
    "    return json.loads(inferences), timestamp\n",
    "\n",
    "simple_getter(json_data[0])"
   ]
  },
  {
   "cell_type": "code",
   "execution_count": 111,
   "metadata": {},
   "outputs": [
    {
     "name": "stderr",
     "output_type": "stream",
     "text": [
      "INFO:matplotlib.category:Using categorical units to plot a list of strings that are all parsable as floats or dates. If these strings should be plotted as numbers, cast to the appropriate data type before plotting.\n",
      "INFO:matplotlib.category:Using categorical units to plot a list of strings that are all parsable as floats or dates. If these strings should be plotted as numbers, cast to the appropriate data type before plotting.\n"
     ]
    },
    {
     "data": {
      "image/png": "[encoded data removed]",
      "text/plain": [
       "<Figure size 640x480 with 1 Axes>"
      ]
     },
     "metadata": {},
     "output_type": "display_data"
    }
   ],
   "source": [
    "\n",
    "x = []\n",
    "y = []\n",
    "for obj in json_data:\n",
    "    inference, timestamp = simple_getter(obj)\n",
    "    \n",
    "    y.append(max(inference))\n",
    "    x.append(timestamp)\n",
    "\n",
    "\n",
    "plt.scatter(x, y, c=['r' if k<.94 else 'b' for k in y ])\n",
    "plt.axhline(y=0.94, color='g', linestyle='--')\n",
    "plt.ylim(bottom=.88)\n",
    "\n",
    "\n",
    "plt.ylabel(\"Confidence\")\n",
    "plt.suptitle(\"Observed Recent Inferences\", size=14)\n",
    "plt.title(\"Pictured with confidence threshold for production use\", size=10)\n",
    "\n",
    "\n",
    "plt.style.use(\"Solarize_Light2\")\n",
    "plt.gcf().autofmt_xdate()"
   ]
  }
 ],
 "metadata": {
  "instance_type": "ml.t3.medium",
  "kernelspec": {
   "display_name": "base",
   "language": "python",
   "name": "python3"
  },
  "language_info": {
   "codemirror_mode": {
    "name": "ipython",
    "version": 3
   },
   "file_extension": ".py",
   "mimetype": "text/x-python",
   "name": "python",
   "nbconvert_exporter": "python",
   "pygments_lexer": "ipython3",
   "version": "3.11.5"
  }
 },
 "nbformat": 4,
 "nbformat_minor": 4
}
